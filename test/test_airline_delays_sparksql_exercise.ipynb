{
 "cells": [
  {
   "cell_type": "markdown",
   "metadata": {},
   "source": [
    "# Spark SQL Exercise\n",
    "\n",
    "Let's work with some airline data and play around/do some EDA."
   ]
  },
  {
   "cell_type": "code",
   "execution_count": 1,
   "metadata": {},
   "outputs": [],
   "source": [
    "import pyspark\n",
    "from urllib import request\n",
    "\n",
    "spark = pyspark.sql.SparkSession.builder.getOrCreate()\n",
    "\n",
    "airports_path = 'data/airline/airport_codes.txt'\n"
   ]
  },
  {
   "cell_type": "markdown",
   "metadata": {},
   "source": [
    "These are premade files collected from [Airline On-Time Performance and Causes of Flight Delays: On Time Data](https://catalog.data.gov/dataset/airline-on-time-performance-and-causes-of-flight-delays-on-time-data). The flight delay is missing the carrier id (i.e. which airline operated the plane)\n",
    "\n",
    "You can generate your own data set with custom ranges for dates, and what data to include by selecting the appopriate boxes [here](https://transtats.bts.gov/DL_SelectFields.asp)"
   ]
  },
  {
   "cell_type": "markdown",
   "metadata": {},
   "source": [
    "Let's load the data from the correct path and also make it into a view that SparkSQL and query."
   ]
  },
  {
   "cell_type": "code",
   "execution_count": 4,
   "metadata": {},
   "outputs": [],
   "source": [
    "airports = spark.read.csv(airports_path, header='true', inferSchema='true',\n",
    "                          sep='\\t')\n",
    "airports.createOrReplaceTempView(\"airports\")\n"
   ]
  },
  {
   "cell_type": "code",
   "execution_count": 11,
   "metadata": {},
   "outputs": [],
   "source": [
    "flight_delay_url = 'https://s3.amazonaws.com/gamma-datasets/departuredelays.csv'"
   ]
  },
  {
   "cell_type": "code",
   "execution_count": 9,
   "metadata": {},
   "outputs": [],
   "source": [
    "# Obtain Airports dataset\n",
    "airports = spark.read.csv(airports_path, header='true', inferSchema='true',\n",
    "                          sep='\\t')\n",
    "airports.createOrReplaceTempView(\"airports\")\n",
    "\n",
    "# Use urllib.request to download file\n",
    "flight_delay_file, _ = request.urlretrieve(flight_delay_url)\n",
    "\n",
    "# Obtain Departure Delays dataset\n",
    "flightPerf = spark.read.csv(flight_delay_file, header='true')\n",
    "flightPerf.createOrReplaceTempView(\"FlightPerformance\")"
   ]
  },
  {
   "cell_type": "code",
   "execution_count": 10,
   "metadata": {},
   "outputs": [
    {
     "name": "stdout",
     "output_type": "stream",
     "text": [
      "root\n",
      " |-- date: string (nullable = true)\n",
      " |-- delay: string (nullable = true)\n",
      " |-- distance: string (nullable = true)\n",
      " |-- origin: string (nullable = true)\n",
      " |-- destination: string (nullable = true)\n",
      "\n"
     ]
    }
   ],
   "source": [
    "flightPerf.printSchema()"
   ]
  },
  {
   "cell_type": "code",
   "execution_count": null,
   "metadata": {},
   "outputs": [],
   "source": [
    "airports.printSchema()"
   ]
  },
  {
   "cell_type": "code",
   "execution_count": 12,
   "metadata": {},
   "outputs": [
    {
     "name": "stdout",
     "output_type": "stream",
     "text": [
      "+-----------+----+\n",
      "|       CITY|IATA|\n",
      "+-----------+----+\n",
      "|Bloomington| BMI|\n",
      "|  Champaign| CMI|\n",
      "|    Chicago| MDW|\n",
      "|    Chicago| ORD|\n",
      "|    Chicago| CHI|\n",
      "|    Decatur| DEC|\n",
      "|     Marion| MWA|\n",
      "|     Moline| MLI|\n",
      "|     Peoria| PIA|\n",
      "|     Quincy| UIN|\n",
      "|   Rockford| RFD|\n",
      "|Springfield| SPI|\n",
      "+-----------+----+\n",
      "\n"
     ]
    }
   ],
   "source": [
    "spark.sql('SELECT CITY, IATA FROM airports WHERE state=\"IL\" ').show()"
   ]
  },
  {
   "cell_type": "code",
   "execution_count": 13,
   "metadata": {},
   "outputs": [
    {
     "name": "stdout",
     "output_type": "stream",
     "text": [
      "+--------+-----+--------+------+-----------+\n",
      "|    date|delay|distance|origin|destination|\n",
      "+--------+-----+--------+------+-----------+\n",
      "|01011245|    6|     602|   ABE|        ATL|\n",
      "|01020600|   -8|     369|   ABE|        DTW|\n",
      "|01021245|   -2|     602|   ABE|        ATL|\n",
      "|01020605|   -4|     602|   ABE|        ATL|\n",
      "|01031245|   -4|     602|   ABE|        ATL|\n",
      "+--------+-----+--------+------+-----------+\n",
      "only showing top 5 rows\n",
      "\n"
     ]
    }
   ],
   "source": [
    "spark.sql('SELECT * FROM FlightPerformance').show(5)"
   ]
  },
  {
   "cell_type": "code",
   "execution_count": 14,
   "metadata": {},
   "outputs": [
    {
     "name": "stdout",
     "output_type": "stream",
     "text": [
      "+-----------+--------+------------------+\n",
      "|destination|distance|         avg_delay|\n",
      "+-----------+--------+------------------+\n",
      "|        RAP|   677.0|             121.5|\n",
      "|        CHO|   492.0|             111.5|\n",
      "|        ROA|   461.0| 70.22222222222223|\n",
      "|        GSO|   512.0| 61.91208791208791|\n",
      "|        CAE|   579.0| 61.81884057971015|\n",
      "|        MOB|   677.0|61.093023255813954|\n",
      "|        GSP|   502.0|61.054545454545455|\n",
      "|        HSV|   443.0| 57.91818181818182|\n",
      "|        MQT|   263.0| 56.04761904761905|\n",
      "|        HNL|  3687.0|53.861111111111114|\n",
      "|        SCE|   459.0| 53.73831775700935|\n",
      "|        PNS|   690.0|53.642857142857146|\n",
      "|        ELP|  1074.0|            53.625|\n",
      "|        PWM|   782.0| 52.23809523809524|\n",
      "|        ORF|   623.0|51.445945945945944|\n",
      "|        FOE|   399.0| 51.32608695652174|\n",
      "|        BOI|  1249.0|51.108108108108105|\n",
      "|        MTJ|   939.0|50.074074074074076|\n",
      "|        TYS|   413.0| 49.82175226586103|\n",
      "|        BTV|   663.0| 49.41860465116279|\n",
      "+-----------+--------+------------------+\n",
      "only showing top 20 rows\n",
      "\n"
     ]
    }
   ],
   "source": [
    "query = '''\n",
    "SELECT destination, avg(distance) as distance, avg(delay) as avg_delay FROM FlightPerformance  \n",
    "   WHERE origin=\"ORD\" AND delay > 0\n",
    "   GROUP BY destination\n",
    "   ORDER BY avg_delay DESC\n",
    "'''\n",
    "\n",
    "spark.sql(query).show()"
   ]
  },
  {
   "cell_type": "markdown",
   "metadata": {},
   "source": [
    "## Exercise 1: \n",
    "\n",
    "What is the average delay for flights coming _into_ ORD?"
   ]
  },
  {
   "cell_type": "code",
   "execution_count": null,
   "metadata": {},
   "outputs": [],
   "source": [
    "spark.sql('select avg()')"
   ]
  },
  {
   "cell_type": "markdown",
   "metadata": {},
   "source": [
    "# Exercise 2:\n",
    "What is the average delay for flights leaving from any airport in Illinois, broken up by destination?"
   ]
  },
  {
   "cell_type": "code",
   "execution_count": null,
   "metadata": {},
   "outputs": [],
   "source": []
  }
 ],
 "metadata": {
  "anaconda-cloud": {},
  "kernelspec": {
   "display_name": "metis",
   "language": "python",
   "name": "metis"
  },
  "language_info": {
   "codemirror_mode": {
    "name": "ipython",
    "version": 3
   },
   "file_extension": ".py",
   "mimetype": "text/x-python",
   "name": "python",
   "nbconvert_exporter": "python",
   "pygments_lexer": "ipython3",
   "version": "3.7.3"
  },
  "toc": {
   "colors": {
    "hover_highlight": "#DAA520",
    "navigate_num": "#000000",
    "navigate_text": "#333333",
    "running_highlight": "#FF0000",
    "selected_highlight": "#FFD700",
    "sidebar_border": "#EEEEEE",
    "wrapper_background": "#FFFFFF"
   },
   "moveMenuLeft": false,
   "nav_menu": {
    "height": "66px",
    "width": "252px"
   },
   "navigate_menu": true,
   "number_sections": false,
   "sideBar": false,
   "threshold": "3",
   "toc_cell": false,
   "toc_section_display": "block",
   "toc_window_display": false,
   "widenNotebook": false
  }
 },
 "nbformat": 4,
 "nbformat_minor": 2
}
